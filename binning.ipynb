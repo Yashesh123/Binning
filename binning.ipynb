{
 "cells": [
  {
   "cell_type": "code",
   "execution_count": 17,
   "metadata": {},
   "outputs": [
    {
     "name": "stdout",
     "output_type": "stream",
     "text": [
      "Enter size of data 13\n",
      "Enter data 15 16 16 13 19 20 20 21 22 22 25 25 25\n",
      "Enter size of bin 3\n"
     ]
    }
   ],
   "source": [
    "n = int(input(\"Enter size of data \"))\n",
    "data = []\n",
    "temp = input((\"Enter data \"))\n",
    "data = temp.split(' ')\n",
    "size = int(input(\"Enter size of bin \"))"
   ]
  },
  {
   "cell_type": "code",
   "execution_count": 18,
   "metadata": {},
   "outputs": [],
   "source": [
    "data.sort()"
   ]
  },
  {
   "cell_type": "code",
   "execution_count": 19,
   "metadata": {},
   "outputs": [],
   "source": [
    "binn = []\n",
    "for i in range(0,len(data),size):\n",
    "    binn.append(data[i:i+size])"
   ]
  },
  {
   "cell_type": "code",
   "execution_count": 20,
   "metadata": {},
   "outputs": [
    {
     "data": {
      "text/plain": [
       "[['13', '15', '16'],\n",
       " ['16', '19', '20'],\n",
       " ['20', '21', '22'],\n",
       " ['22', '25', '25'],\n",
       " ['25']]"
      ]
     },
     "execution_count": 20,
     "metadata": {},
     "output_type": "execute_result"
    }
   ],
   "source": [
    "binn"
   ]
  },
  {
   "cell_type": "markdown",
   "metadata": {},
   "source": [
    "# Binning by Mean"
   ]
  },
  {
   "cell_type": "code",
   "execution_count": 26,
   "metadata": {},
   "outputs": [],
   "source": [
    "bin_by_mean = []\n",
    "for i in range(len(binn)):\n",
    "    summ = 0\n",
    "    temp = 0\n",
    "    for j in range(len(binn[i])):\n",
    "        summ += int(binn[i][j])\n",
    "    mean = int(summ/len(binn[i]))\n",
    "    bin_by_mean.append([mean]*len(binn[i]))"
   ]
  },
  {
   "cell_type": "code",
   "execution_count": 27,
   "metadata": {},
   "outputs": [
    {
     "data": {
      "text/plain": [
       "[[14, 14, 14], [18, 18, 18], [21, 21, 21], [24, 24, 24], [25]]"
      ]
     },
     "execution_count": 27,
     "metadata": {},
     "output_type": "execute_result"
    }
   ],
   "source": [
    "bin_by_mean"
   ]
  },
  {
   "cell_type": "markdown",
   "metadata": {},
   "source": [
    "# Binning by Median"
   ]
  },
  {
   "cell_type": "code",
   "execution_count": 28,
   "metadata": {
    "collapsed": true
   },
   "outputs": [],
   "source": [
    "bin_by_median = []\n",
    "for i in range(len(binn)):\n",
    "    bin_by_median.append([binn[i][int(len(binn[i])/size)]]*len(binn[i]))"
   ]
  },
  {
   "cell_type": "code",
   "execution_count": 29,
   "metadata": {},
   "outputs": [
    {
     "data": {
      "text/plain": [
       "[['15', '15', '15'],\n",
       " ['19', '19', '19'],\n",
       " ['21', '21', '21'],\n",
       " ['25', '25', '25'],\n",
       " ['25']]"
      ]
     },
     "execution_count": 29,
     "metadata": {},
     "output_type": "execute_result"
    }
   ],
   "source": [
    "bin_by_median"
   ]
  },
  {
   "cell_type": "markdown",
   "metadata": {},
   "source": [
    "# Binning by Boundary values"
   ]
  },
  {
   "cell_type": "code",
   "execution_count": 30,
   "metadata": {
    "collapsed": true
   },
   "outputs": [],
   "source": [
    "bin_by_bound = []\n",
    "bin_by_bound_temp = []\n",
    "for i in range(len(binn)):\n",
    "    mini = int(binn[i][0])\n",
    "    maxi = int(binn[i][len(binn[i])-1])\n",
    "    for j in binn[i]:\n",
    "        if abs(int(j)-int(mini))<abs(int(j)-int(maxi)):\n",
    "            bin_by_bound_temp.append(mini)\n",
    "        else:\n",
    "            bin_by_bound_temp.append(maxi)\n",
    "for i in range(0,len(bin_by_bound_temp),size):\n",
    "    bin_by_bound.append(bin_by_bound_temp[i:i+size])"
   ]
  },
  {
   "cell_type": "code",
   "execution_count": 31,
   "metadata": {},
   "outputs": [
    {
     "data": {
      "text/plain": [
       "[[13, 16, 16], [16, 20, 20], [20, 22, 22], [22, 25, 25], [25]]"
      ]
     },
     "execution_count": 31,
     "metadata": {},
     "output_type": "execute_result"
    }
   ],
   "source": [
    "bin_by_bound"
   ]
  },
  {
   "cell_type": "code",
   "execution_count": null,
   "metadata": {
    "collapsed": true
   },
   "outputs": [],
   "source": []
  }
 ],
 "metadata": {
  "kernelspec": {
   "display_name": "Python 3",
   "language": "python",
   "name": "python3"
  },
  "language_info": {
   "codemirror_mode": {
    "name": "ipython",
    "version": 3
   },
   "file_extension": ".py",
   "mimetype": "text/x-python",
   "name": "python",
   "nbconvert_exporter": "python",
   "pygments_lexer": "ipython3",
   "version": "3.6.1"
  }
 },
 "nbformat": 4,
 "nbformat_minor": 2
}
